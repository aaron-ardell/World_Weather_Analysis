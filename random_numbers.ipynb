{
 "cells": [
  {
   "cell_type": "code",
   "execution_count": 2,
   "id": "929cca56",
   "metadata": {},
   "outputs": [],
   "source": [
    "import random"
   ]
  },
  {
   "cell_type": "code",
   "execution_count": 3,
   "id": "8fdc4040",
   "metadata": {},
   "outputs": [
    {
     "data": {
      "text/plain": [
       "0.3626206667085299"
      ]
     },
     "execution_count": 3,
     "metadata": {},
     "output_type": "execute_result"
    }
   ],
   "source": [
    "random.random()"
   ]
  },
  {
   "cell_type": "code",
   "execution_count": 8,
   "id": "a415fb39",
   "metadata": {},
   "outputs": [
    {
     "data": {
      "text/plain": [
       "90"
      ]
     },
     "execution_count": 8,
     "metadata": {},
     "output_type": "execute_result"
    }
   ],
   "source": [
    "random.randint(90,90)"
   ]
  },
  {
   "cell_type": "code",
   "execution_count": 6,
   "id": "93a8c0b9",
   "metadata": {},
   "outputs": [
    {
     "data": {
      "text/plain": [
       "-7"
      ]
     },
     "execution_count": 6,
     "metadata": {},
     "output_type": "execute_result"
    }
   ],
   "source": [
    "random.randrange(-9,9,2)"
   ]
  },
  {
   "cell_type": "code",
   "execution_count": 7,
   "id": "13333809",
   "metadata": {},
   "outputs": [
    {
     "data": {
      "text/plain": [
       "-0.40122157867470776"
      ]
     },
     "execution_count": 7,
     "metadata": {},
     "output_type": "execute_result"
    }
   ],
   "source": [
    "random.uniform(-10,10)"
   ]
  },
  {
   "cell_type": "code",
   "execution_count": 10,
   "id": "8122ddc7",
   "metadata": {},
   "outputs": [
    {
     "data": {
      "text/plain": [
       "35.9136756006639"
      ]
     },
     "execution_count": 10,
     "metadata": {},
     "output_type": "execute_result"
    }
   ],
   "source": [
    "# Create random number for latitude and longitude data.\n",
    "random_number  = random.randint(-90,89) + random.random()\n",
    "random_number"
   ]
  },
  {
   "cell_type": "code",
   "execution_count": 15,
   "id": "199825ab",
   "metadata": {},
   "outputs": [
    {
     "data": {
      "text/plain": [
       "[62.07257181825447,\n",
       " 83.14975301870422,\n",
       " -40.61587788437297,\n",
       " -16.274260643073696,\n",
       " 73.85944107945839,\n",
       " -7.755091172870321,\n",
       " -15.885286919931321,\n",
       " -18.203005497599204,\n",
       " 5.935073730254296,\n",
       " 87.63707358574857]"
      ]
     },
     "execution_count": 15,
     "metadata": {},
     "output_type": "execute_result"
    }
   ],
   "source": [
    "# Generate ten random floating-point decimal latitudes.\n",
    "x = 1\n",
    "latitudes = []\n",
    "while x < 11:\n",
    "    random_lat = random.randint(-90,89) + random.random()\n",
    "    latitudes.append(random_lat)\n",
    "    x += 1\n",
    "latitudes"
   ]
  },
  {
   "cell_type": "code",
   "execution_count": 16,
   "id": "a4f3762b",
   "metadata": {},
   "outputs": [
    {
     "data": {
      "text/plain": [
       "45"
      ]
     },
     "execution_count": 16,
     "metadata": {},
     "output_type": "execute_result"
    }
   ],
   "source": [
    "random.randrange(-90, 90, step=3)"
   ]
  },
  {
   "cell_type": "code",
   "execution_count": 17,
   "id": "4a65a13a",
   "metadata": {},
   "outputs": [
    {
     "data": {
      "text/plain": [
       "-83.58985240154192"
      ]
     },
     "execution_count": 17,
     "metadata": {},
     "output_type": "execute_result"
    }
   ],
   "source": [
    "random.uniform(-90, 90)"
   ]
  },
  {
   "cell_type": "code",
   "execution_count": 18,
   "id": "177a4a66",
   "metadata": {},
   "outputs": [],
   "source": [
    "# Using Numpy with the random modules.\n",
    "import numpy as np"
   ]
  },
  {
   "cell_type": "code",
   "execution_count": 20,
   "id": "fad3c8b8",
   "metadata": {},
   "outputs": [
    {
     "data": {
      "text/plain": [
       "63.25788102398292"
      ]
     },
     "execution_count": 20,
     "metadata": {},
     "output_type": "execute_result"
    }
   ],
   "source": [
    "np.random.uniform(-90.000, 90.000)"
   ]
  },
  {
   "cell_type": "code",
   "execution_count": 21,
   "id": "77d629cf",
   "metadata": {},
   "outputs": [
    {
     "data": {
      "text/plain": [
       "array([-18.26681992, -36.90938074, -43.49394151,  68.26754094,\n",
       "        42.70980658,  38.56020215,  52.20274172, -45.53942471,\n",
       "       -22.56771326,  65.61782365, -14.32953055,  86.1847148 ,\n",
       "        79.26397724,  -7.57877408,  61.92946995,   5.02586924,\n",
       "       -11.78770571, -87.2257023 , -43.7811028 ,  60.61154128,\n",
       "       -42.93096789, -87.02336149,  31.06416519, -29.48768907,\n",
       "        87.55424775, -10.04429151,  46.07222309,   0.23356694,\n",
       "        -5.7123172 , -10.73094054,  73.29296219, -24.8799872 ,\n",
       "        53.5473628 , -71.13101807,  79.57922061,  72.35526413,\n",
       "        64.2553938 ,  54.44102433, -73.3755539 , -77.3998047 ,\n",
       "        58.06110976, -64.49143611, -20.17531098,  89.53773773,\n",
       "        29.65133607, -18.95658974, -64.17306279,   7.66574862,\n",
       "        75.70851576, -89.9980929 ])"
      ]
     },
     "execution_count": 21,
     "metadata": {},
     "output_type": "execute_result"
    }
   ],
   "source": [
    "np.random.uniform(-90.000, 90.000, size=50)"
   ]
  },
  {
   "cell_type": "code",
   "execution_count": 22,
   "id": "9b68c82e",
   "metadata": {},
   "outputs": [],
   "source": [
    "# Timing methods to see which is faster.\n",
    "import timeit"
   ]
  },
  {
   "cell_type": "code",
   "execution_count": 24,
   "id": "766af2e9",
   "metadata": {},
   "outputs": [
    {
     "name": "stdout",
     "output_type": "stream",
     "text": [
      "13.1 µs ± 122 ns per loop (mean ± std. dev. of 7 runs, 100000 loops each)\n"
     ]
    }
   ],
   "source": [
    "%timeit np.random.uniform(-90.000, 90.000, size=1500)"
   ]
  },
  {
   "cell_type": "code",
   "execution_count": 25,
   "id": "f34cbc2a",
   "metadata": {},
   "outputs": [
    {
     "name": "stdout",
     "output_type": "stream",
     "text": [
      "1.62 ms ± 65.8 µs per loop (mean ± std. dev. of 7 runs, 1000 loops each)\n"
     ]
    }
   ],
   "source": [
    "def latitudes(size):\n",
    "    latitudes = []\n",
    "    x = 0\n",
    "    while x < (size):\n",
    "        random_lat = random.randint(-90, 90) + random.random()\n",
    "        latitudes.append(random_lat)\n",
    "        x += 1\n",
    "    return latitudes\n",
    "# Call the function with 1500.\n",
    "%timeit latitudes(1500)"
   ]
  },
  {
   "cell_type": "code",
   "execution_count": null,
   "id": "b62d5498",
   "metadata": {},
   "outputs": [],
   "source": []
  }
 ],
 "metadata": {
  "kernelspec": {
   "display_name": "PythonData",
   "language": "python",
   "name": "pythondata"
  },
  "language_info": {
   "codemirror_mode": {
    "name": "ipython",
    "version": 3
   },
   "file_extension": ".py",
   "mimetype": "text/x-python",
   "name": "python",
   "nbconvert_exporter": "python",
   "pygments_lexer": "ipython3",
   "version": "3.7.13"
  }
 },
 "nbformat": 4,
 "nbformat_minor": 5
}
